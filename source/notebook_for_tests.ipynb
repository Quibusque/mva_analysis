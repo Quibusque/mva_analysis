{
 "cells": [
  {
   "cell_type": "code",
   "execution_count": 1,
   "metadata": {},
   "outputs": [],
   "source": [
    "import uproot\n",
    "import re\n",
    "import awkward as ak\n",
    "import numpy as np\n",
    "\n",
    "from cfg.hnl_mva_tools import read_json_file\n",
    "from data_tools.load_data import filter_trees"
   ]
  },
  {
   "cell_type": "code",
   "execution_count": 3,
   "metadata": {},
   "outputs": [
    {
     "name": "stdout",
     "output_type": "stream",
     "text": [
      "number of events that did not pass gen matching: 51\n",
      "total number of events: 9834\n"
     ]
    }
   ],
   "source": [
    "\n",
    "json_file = read_json_file(\"cfg/ntuples.json\")\n",
    "signal_files = json_file[\"signal\"]\n",
    "new_signal_files = json_file[\"signal\"]\n",
    "background_files = json_file[\"background\"]\n",
    "treename = json_file[\"treename\"]\n",
    "weight_name = json_file[\"weight_name\"]\n",
    "\n",
    "#list variables\n",
    "good_vars = read_json_file(\"cfg/vars_old.json\")[\"vars\"]\n",
    "#add weight and event (normally not included in variables because they are not variables to train on)\n",
    "good_vars.append(weight_name)\n",
    "good_vars.append(\"event\")\n",
    "\n",
    "\n",
    "#you can choose my_signal_files and my_new_signal_files if you want to\n",
    "#modify only some specific files\n",
    "my_signal_files = [\"/home/quibus/hnl_ntuples_for_mva/tree_HnlToMuPi_prompt_DsToNMu_NToMuPi_SoftQCDnonD_noQuarkFilter_mN1p0_ctau10p0mm_TuneCP5_13TeV-pythia8-evtgen_tree.root\"]\n",
    "my_new_signal_files = [\"mN1p0\"]\n",
    "for signal_file,new_signal_file in zip(my_signal_files,my_new_signal_files):\n",
    "    #open the root file and tree with uproot\n",
    "    file = uproot.open(signal_file)\n",
    "    tree = file[treename]\n",
    "\n",
    "    #load the variables you want to use\n",
    "    events = tree.arrays(good_vars, library=\"ak\", how=dict)\n",
    "    my_arr = events[\"C_pass_gen_matching\"]\n",
    "    number = 0\n",
    "    for element in my_arr:\n",
    "        #element is an array\n",
    "        #if it only contains zeros it means that the event did not pass the gen matching\n",
    "        #in that case increase number by 1\n",
    "        if np.all(element==0):\n",
    "            number += 1\n",
    "    print(f\"number of events that did not pass gen matching: {number}\")\n",
    "    print(f\"total number of events: {len(my_arr)}\")\n",
    "    break\n"
   ]
  },
  {
   "cell_type": "code",
   "execution_count": null,
   "metadata": {},
   "outputs": [],
   "source": []
  }
 ],
 "metadata": {
  "kernelspec": {
   "display_name": "myrootenv",
   "language": "python",
   "name": "python3"
  },
  "language_info": {
   "codemirror_mode": {
    "name": "ipython",
    "version": 3
   },
   "file_extension": ".py",
   "mimetype": "text/x-python",
   "name": "python",
   "nbconvert_exporter": "python",
   "pygments_lexer": "ipython3",
   "version": "3.11.6"
  }
 },
 "nbformat": 4,
 "nbformat_minor": 2
}
