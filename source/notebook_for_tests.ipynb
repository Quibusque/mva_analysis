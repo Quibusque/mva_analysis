{
 "cells": [
  {
   "cell_type": "code",
   "execution_count": 20,
   "metadata": {},
   "outputs": [],
   "source": [
    "import awkward as ak \n",
    "import pandas as pd\n",
    "import numpy as np"
   ]
  },
  {
   "cell_type": "code",
   "execution_count": 21,
   "metadata": {},
   "outputs": [],
   "source": [
    "def gen_match_data(data, gen_matching_var: str):\n",
    "    mask = data[gen_matching_var] == 1\n",
    "    masked_data = {key: ak.mask(data[key], mask) for key in data}\n",
    "    \n",
    "    # Drop None values from each array in masked_data\n",
    "    masked_data = {key: ak.drop_none(value) for key, value in masked_data.items()}\n",
    "    \n",
    "    for key in masked_data.keys():\n",
    "        masked_data[key] = masked_data[key][ak.count(masked_data[key], axis=-1) > 0]\n",
    "    \n",
    "    return masked_data\n",
    "\n",
    "gen_matching_var = \"myvar\""
   ]
  },
  {
   "cell_type": "code",
   "execution_count": 22,
   "metadata": {},
   "outputs": [
    {
     "name": "stdout",
     "output_type": "stream",
     "text": [
      "{'myvar': <Array [[1, 0, 0], [0, 1, 0], [0, 0, 1]] type='3 * var * int64'>, 'pt': <Array [[2.4, 1.3, 3.5], [0, ...], [0, 0, 0.2]] type='3 * var * float64'>}\n",
      "{'myvar': <Array [[1], [1], [1]] type='3 * var * int64'>, 'pt': <Array [[2.4], [0], [0.2]] type='3 * var * float64'>}\n"
     ]
    }
   ],
   "source": [
    "data = {\n",
    "    gen_matching_var: ak.Array([[1, 0, 0], [0, 1, 0], [0, 0, 1]]),\n",
    "    \"pt\": ak.Array([[2.4, 1.3, 3.5], [0, 0, 1.2], [0, 0, 0.2]]),\n",
    "}\n",
    "print(data)\n",
    "data = gen_match_data(data, gen_matching_var)\n",
    "print(data)\n"
   ]
  },
  {
   "cell_type": "code",
   "execution_count": null,
   "metadata": {},
   "outputs": [],
   "source": []
  }
 ],
 "metadata": {
  "kernelspec": {
   "display_name": "myrootenv",
   "language": "python",
   "name": "python3"
  },
  "language_info": {
   "codemirror_mode": {
    "name": "ipython",
    "version": 3
   },
   "file_extension": ".py",
   "mimetype": "text/x-python",
   "name": "python",
   "nbconvert_exporter": "python",
   "pygments_lexer": "ipython3",
   "version": "3.11.6"
  }
 },
 "nbformat": 4,
 "nbformat_minor": 2
}
