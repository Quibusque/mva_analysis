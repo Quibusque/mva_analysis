{
 "cells": [
  {
   "cell_type": "code",
   "execution_count": 9,
   "metadata": {},
   "outputs": [],
   "source": [
    "import awkward as ak \n",
    "import pandas as pd\n",
    "import numpy as np"
   ]
  },
  {
   "cell_type": "code",
   "execution_count": 25,
   "metadata": {},
   "outputs": [],
   "source": [
    "def gen_match_data(data, gen_matching_var: str):\n",
    "    mask = data[gen_matching_var] == 1\n",
    "    masked_data = {key: ak.mask(data[key], mask) for key in data}\n",
    "    \n",
    "    # Drop None values from each array in masked_data\n",
    "    masked_data = {key: ak.drop_none(value) for key, value in masked_data.items()}\n",
    "    \n",
    "    for key in masked_data.keys():\n",
    "        masked_data[key] = masked_data[key][ak.any(masked_data[key], axis=-1)]\n",
    "    \n",
    "    return masked_data\n",
    "\n",
    "gen_matching_var = \"C_pass_gen_matching\""
   ]
  },
  {
   "cell_type": "code",
   "execution_count": 26,
   "metadata": {},
   "outputs": [
    {
     "data": {
      "text/plain": [
       "{'C_pass_gen_matching': <Array [[0, 1], [1], [0, 0]] type='3 * var * int64'>,\n",
       " 'C_Ds_pt': <Array [[1.2, 3.2], [0.2], [1, 2]] type='3 * var * float64'>}"
      ]
     },
     "execution_count": 26,
     "metadata": {},
     "output_type": "execute_result"
    }
   ],
   "source": [
    "data = {gen_matching_var:\n",
    "        ak.Array([[0,1],[1],[0,0]]),\n",
    "        \"C_Ds_pt\":\n",
    "        ak.Array([[1.2,3.2],[0.2],[1.,2.]])\n",
    "}\n",
    "data"
   ]
  },
  {
   "cell_type": "code",
   "execution_count": 27,
   "metadata": {},
   "outputs": [
    {
     "data": {
      "text/plain": [
       "{'C_pass_gen_matching': <Array [[1], [1]] type='2 * var * int64'>,\n",
       " 'C_Ds_pt': <Array [[3.2], [0.2]] type='2 * var * float64'>}"
      ]
     },
     "execution_count": 27,
     "metadata": {},
     "output_type": "execute_result"
    }
   ],
   "source": [
    "data = gen_match_data(data,gen_matching_var=gen_matching_var)\n",
    "data"
   ]
  },
  {
   "cell_type": "code",
   "execution_count": 24,
   "metadata": {},
   "outputs": [
    {
     "name": "stdout",
     "output_type": "stream",
     "text": [
      "[[3.2], [0.2]]\n"
     ]
    }
   ],
   "source": [
    "data = ak.Array([[None, 3.2], [0.2], [None, None]])\n",
    "filtered_data = ak.drop_none(data)\n",
    "filtered_data = filtered_data[ak.any(filtered_data, axis=-1)]\n",
    "\n",
    "print(filtered_data)"
   ]
  },
  {
   "cell_type": "code",
   "execution_count": null,
   "metadata": {},
   "outputs": [],
   "source": []
  }
 ],
 "metadata": {
  "kernelspec": {
   "display_name": "myrootenv",
   "language": "python",
   "name": "python3"
  },
  "language_info": {
   "codemirror_mode": {
    "name": "ipython",
    "version": 3
   },
   "file_extension": ".py",
   "mimetype": "text/x-python",
   "name": "python",
   "nbconvert_exporter": "python",
   "pygments_lexer": "ipython3",
   "version": "3.11.6"
  }
 },
 "nbformat": 4,
 "nbformat_minor": 2
}
