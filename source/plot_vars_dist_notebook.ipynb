{
 "cells": [
  {
   "cell_type": "code",
   "execution_count": 1,
   "metadata": {},
   "outputs": [],
   "source": [
    "import uproot\n",
    "import awkward as ak\n",
    "import numpy as np\n",
    "import seaborn as sns\n",
    "import matplotlib.pyplot as plt\n",
    "import os\n",
    "\n",
    "from cfg.hnl_mva_tools import read_json_file\n",
    "from data_tools.load_data import read_files_and_open_trees, filter_trees\n",
    "from plot_tools.plot_vars_dist_tools import plot_var_dist, load_variables"
   ]
  },
  {
   "cell_type": "code",
   "execution_count": 2,
   "metadata": {},
   "outputs": [],
   "source": [
    "ntuples_json = \"cfg/ntuples.json\"\n",
    "vars_json = \"cfg/vars_new.json\"\n",
    "plots_dir = \"../vars_dist_plots\"\n",
    "(\n",
    "    sig_trees,\n",
    "    bkg_trees,\n",
    "    good_vars,\n",
    "    weight_name,\n",
    "    sig_labels,\n",
    "    bkg_labels\n",
    ") = read_files_and_open_trees(ntuples_json, vars_json)\n",
    "\n",
    "# FILTER TREES\n",
    "mass_list = [\"mN1p0\",\"mN1p5\"]\n",
    "ctau_list = [\"ctau10\"]\n",
    "my_sig_trees, my_sig_labels = filter_trees(\n",
    "    sig_trees, sig_labels, mass_list=mass_list, ctau_list=ctau_list\n",
    ")"
   ]
  },
  {
   "cell_type": "code",
   "execution_count": 3,
   "metadata": {},
   "outputs": [
    {
     "name": "stdout",
     "output_type": "stream",
     "text": [
      "Loading Variables...\n",
      "Variables Loaded!\n"
     ]
    }
   ],
   "source": [
    "my_sig, bkg, my_sig_weight, bkg_weight = load_variables(good_vars,my_sig_trees,bkg_trees,weight_name)"
   ]
  },
  {
   "cell_type": "code",
   "execution_count": 4,
   "metadata": {},
   "outputs": [
    {
     "name": "stdout",
     "output_type": "stream",
     "text": [
      "Plotting C_Ds_pt\n",
      "Plotting C_Ds_vertex_2DSig_BS\n",
      "Plotting C_Ds_vertex_cos2D\n",
      "Plotting C_Ds_vertex_prob\n",
      "Plotting C_Hnl_vertex_2DSig_BS\n",
      "Plotting C_Hnl_vertex_cos2D\n",
      "Plotting C_Hnl_vertex_cos3D\n",
      "Plotting C_Hnl_vertex_prob\n",
      "Plotting C_mu_Ds_BS_ips_xy\n",
      "Plotting C_mu_Ds_pt\n",
      "Plotting C_mu_Ds_nValidTrackerHits\n",
      "Plotting C_mu_Ds_nValidPixelHits\n",
      "Plotting C_mu_Ds_tkIso_R03\n",
      "Plotting C_mu_Hnl_BS_ips_xy\n",
      "Plotting C_mu_Hnl_pt\n",
      "Plotting C_mu_Hnl_nValidTrackerHits\n",
      "Plotting C_mu_Hnl_nValidPixelHits\n",
      "Plotting C_mu_Hnl_tkIso_R03\n",
      "Plotting C_pi_BS_ip_xy\n",
      "Plotting C_pi_BS_ips_xy\n",
      "Plotting C_pi_pt\n",
      "Plotting C_pi_nValidTrackerHits\n",
      "Plotting C_pi_nValidPixelHits\n",
      "Plotting C_mu1mu2_dr\n",
      "Plotting C_mu2pi_dr\n"
     ]
    }
   ],
   "source": [
    "for varname in good_vars:\n",
    "    print(f\"Plotting {varname}\")\n",
    "    for sig_index, label in enumerate(my_sig_labels):\n",
    "        out_dir = f\"{plots_dir}/{label}\"\n",
    "        if not os.path.exists(out_dir):\n",
    "            os.makedirs(out_dir)\n",
    "        plot_var_dist(my_sig,bkg,my_sig_weight,bkg_weight,my_sig_labels,bkg_labels,varname,sig_index, out_dir)"
   ]
  }
 ],
 "metadata": {
  "kernelspec": {
   "display_name": "ml",
   "language": "python",
   "name": "python3"
  },
  "language_info": {
   "codemirror_mode": {
    "name": "ipython",
    "version": 3
   },
   "file_extension": ".py",
   "mimetype": "text/x-python",
   "name": "python",
   "nbconvert_exporter": "python",
   "pygments_lexer": "ipython3",
   "version": "3.11.6"
  }
 },
 "nbformat": 4,
 "nbformat_minor": 2
}
