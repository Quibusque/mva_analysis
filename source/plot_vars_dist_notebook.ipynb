{
 "cells": [
  {
   "cell_type": "code",
   "execution_count": 1,
   "metadata": {},
   "outputs": [],
   "source": [
    "import uproot\n",
    "import awkward as ak\n",
    "import numpy as np\n",
    "import seaborn as sns\n",
    "import matplotlib.pyplot as plt\n",
    "import os\n",
    "import pandas as pd\n",
    "\n",
    "from cfg.hnl_mva_tools import read_json_file\n",
    "from data_tools.load_data import read_files_and_open_trees, filter_trees\n",
    "from plot_tools.plot_vars_dist_tools import plot_var_dist, load_sig_data, load_bkg_data, load_bkg_data2, plot_var_dist_collapse_bkg"
   ]
  },
  {
   "cell_type": "code",
   "execution_count": 2,
   "metadata": {},
   "outputs": [],
   "source": [
    "ntuples_json = \"cfg/ntuples.json\"\n",
    "vars_json = \"cfg/vars_new.json\"\n",
    "plots_dir = \"../vars_dist_plots\"\n",
    "(\n",
    "    sig_trees,\n",
    "    bkg_trees,\n",
    "    good_vars,\n",
    "    sig_labels,\n",
    "    bkg_labels\n",
    ") = read_files_and_open_trees(ntuples_json, vars_json)\n",
    "\n",
    "full_vars = read_json_file(vars_json)[\"vars\"]\n",
    "training_vars = read_json_file(vars_json)[\"training_vars\"]\n",
    "scale_factor_vars = read_json_file(vars_json)[\"scale_factors\"]\n",
    "weight_name = read_json_file(ntuples_json)[\"weight_name\"]\n",
    "\n"
   ]
  },
  {
   "cell_type": "code",
   "execution_count": null,
   "metadata": {},
   "outputs": [],
   "source": []
  },
  {
   "cell_type": "code",
   "execution_count": 3,
   "metadata": {},
   "outputs": [],
   "source": [
    "#load_sig_data and load_bkg_data\n",
    "\n",
    "backgrounds, backgrounds_weight = load_bkg_data2(bkg_trees, full_vars,weight_name,scale_factor_vars)\n",
    "bkg_keys = list(backgrounds[0].keys())\n",
    "bkg_dfs = [pd.DataFrame(backgrounds[i], columns=bkg_keys) for i in range(len(backgrounds))]\n",
    "\n",
    "# Add weights to each bkg DataFrame\n",
    "for i in range(len(bkg_dfs)):\n",
    "    bkg_dfs[i]['weight'] = backgrounds_weight[i]"
   ]
  },
  {
   "cell_type": "markdown",
   "metadata": {},
   "source": [
    "#### USE THIS FOR SPECIFIC PLOTS"
   ]
  },
  {
   "cell_type": "code",
   "execution_count": 4,
   "metadata": {},
   "outputs": [],
   "source": [
    "# FILTER TREES\n",
    "mass_list = [\"mN1p5\"]\n",
    "ctau_list = [\"ctau10\", \"ctau100\", \"ctau1000\"]\n",
    "my_sig_trees, my_sig_labels = filter_trees(\n",
    "    sig_trees, sig_labels, mass_list=mass_list, ctau_list=ctau_list\n",
    ")"
   ]
  },
  {
   "cell_type": "code",
   "execution_count": 5,
   "metadata": {},
   "outputs": [
    {
     "name": "stdout",
     "output_type": "stream",
     "text": [
      "Loading Signal Variables...\n",
      "Signal Variables Loaded!\n",
      "Loading Signal Variables...\n",
      "Signal Variables Loaded!\n",
      "Loading Signal Variables...\n",
      "Signal Variables Loaded!\n"
     ]
    }
   ],
   "source": [
    "#┌─────────────────────────────┐\n",
    "#│ USE THIS FOR SPECIFIC PLOTS │\n",
    "#└─────────────────────────────┘\n",
    "category_list = [1,2,3,4,5,6]\n",
    "category_var = \"C_category\"\n",
    "\n",
    "my_vars = [\"C_Hnl_vertex_2DSig_BS\"]\n",
    "my_sig_dfs = []\n",
    "\n",
    "#make plots for all categories\n",
    "out_dir = f\"{plots_dir}/my_plots\"\n",
    "if not os.path.exists(out_dir):\n",
    "    os.makedirs(out_dir)\n",
    "\n",
    "for my_sig_tree, my_sig_label in zip(my_sig_trees, my_sig_labels):\n",
    "    sig, sig_weight = load_sig_data(my_sig_tree, full_vars, scale_factor_vars)\n",
    "    sig_keys = list(sig.keys())\n",
    "    sig_df = pd.DataFrame(sig, columns=sig_keys)\n",
    "    # Add weights to sig DataFrame\n",
    "    sig_df['weight'] = sig_weight\n",
    "    my_sig_dfs.append(sig_df)\n",
    "    for category in category_list:\n",
    "        break\n",
    "        out_dir += f\"/cat_{category}\"\n",
    "        if not os.path.exists(out_dir):\n",
    "            os.makedirs(out_dir)\n",
    "        \n",
    "        #mask away data points that are not in the category\n",
    "        sig_df_masked = sig_df[sig_df[category_var] == category]\n",
    "        bkg_dfs_masked = [bkg_dfs[i][bkg_dfs[i][category_var] == category] for i in range(len(bkg_dfs))]\n",
    "        #plot the variables\n",
    "        for var in full_vars:\n",
    "            signal = sig_df_masked[var]\n",
    "            signal_weight = sig_df_masked['weight']\n",
    "            backgrounds = [bkg_dfs_masked[i][var] for i in range(len(bkg_dfs_masked))]\n",
    "            backgrounds_weight = [bkg_dfs_masked[i]['weight'] for i in range(len(bkg_dfs_masked))]\n",
    "            plot_var_dist(signal,backgrounds, signal_weight, backgrounds_weight, my_sig_label,bkg_labels,var,out_dir)\n",
    "\n",
    "\n",
    "#plot the variables\n",
    "for var in my_vars:\n",
    "    signals = [sig_df[var] for sig_df in my_sig_dfs]\n",
    "    signals_weight = [sig_df['weight'] for sig_df in my_sig_dfs]\n",
    "    backgrounds = [bkg_dfs[i][var] for i in range(len(bkg_dfs))]\n",
    "    backgrounds_weight = [bkg_dfs[i]['weight'] for i in range(len(bkg_dfs))]\n",
    "    plot_var_dist_collapse_bkg(signals,backgrounds, signals_weight, backgrounds_weight, my_sig_labels,bkg_labels,var,out_dir)\n",
    "\n"
   ]
  },
  {
   "cell_type": "markdown",
   "metadata": {},
   "source": [
    "#### USE THIS FOR ALL PLOTS"
   ]
  },
  {
   "cell_type": "code",
   "execution_count": null,
   "metadata": {},
   "outputs": [],
   "source": [
    "# FILTER TREES\n",
    "mass_list = [\"mN1p0\", \"mN1p5\"]\n",
    "ctau_list = [\"ctau10\"]\n",
    "my_sig_trees, my_sig_labels = filter_trees(\n",
    "    sig_trees, sig_labels, mass_list=mass_list, ctau_list=ctau_list\n",
    ")"
   ]
  },
  {
   "cell_type": "code",
   "execution_count": null,
   "metadata": {},
   "outputs": [
    {
     "name": "stdout",
     "output_type": "stream",
     "text": [
      "Loading Signal Variables...\n",
      "Signal Variables Loaded!\n",
      "Loading Signal Variables...\n",
      "Signal Variables Loaded!\n"
     ]
    }
   ],
   "source": [
    "category_list = [1,2,3,4,5,6]\n",
    "category_var = \"C_category\"\n",
    "for my_sig_tree, my_sig_label in zip(my_sig_trees, my_sig_labels):\n",
    "    sig, sig_weight = load_sig_data(my_sig_tree, full_vars, scale_factor_vars)\n",
    "    sig_keys = list(sig.keys())\n",
    "    sig_df = pd.DataFrame(sig, columns=sig_keys)\n",
    "    # Add weights to sig DataFrame\n",
    "    sig_df['weight'] = sig_weight\n",
    "    for category in category_list:\n",
    "        break\n",
    "        out_dir = f\"{plots_dir}/{my_sig_label}/cat_{category}\"\n",
    "        if not os.path.exists(out_dir):\n",
    "            os.makedirs(out_dir)\n",
    "        \n",
    "        #mask away data points that are not in the category\n",
    "        sig_df_masked = sig_df[sig_df[category_var] == category]\n",
    "        bkg_dfs_masked = [bkg_dfs[i][bkg_dfs[i][category_var] == category] for i in range(len(bkg_dfs))]\n",
    "        #plot the variables\n",
    "        for var in full_vars:\n",
    "            signal = sig_df_masked[var]\n",
    "            signal_weight = sig_df_masked['weight']\n",
    "            backgrounds = [bkg_dfs_masked[i][var] for i in range(len(bkg_dfs_masked))]\n",
    "            backgrounds_weight = [bkg_dfs_masked[i]['weight'] for i in range(len(bkg_dfs_masked))]\n",
    "            plot_var_dist(signal,backgrounds, signal_weight, backgrounds_weight, my_sig_label,bkg_labels,var,out_dir)\n",
    "    #make plots for all categories\n",
    "    out_dir = f\"{plots_dir}/{my_sig_label}/all_categories\"\n",
    "    if not os.path.exists(out_dir):\n",
    "        os.makedirs(out_dir)\n",
    "\n",
    "    #plot the variables\n",
    "    for var in full_vars:\n",
    "        signal = sig_df[var]\n",
    "        signal_weight = sig_df['weight']\n",
    "        backgrounds = [bkg_dfs[i][var] for i in range(len(bkg_dfs))]\n",
    "        backgrounds_weight = [bkg_dfs[i]['weight'] for i in range(len(bkg_dfs))]\n",
    "        plot_var_dist(signal,backgrounds, signal_weight, backgrounds_weight, my_sig_label,bkg_labels,var,out_dir)\n"
   ]
  },
  {
   "cell_type": "code",
   "execution_count": null,
   "metadata": {},
   "outputs": [],
   "source": []
  }
 ],
 "metadata": {
  "kernelspec": {
   "display_name": "ml",
   "language": "python",
   "name": "python3"
  },
  "language_info": {
   "codemirror_mode": {
    "name": "ipython",
    "version": 3
   },
   "file_extension": ".py",
   "mimetype": "text/x-python",
   "name": "python",
   "nbconvert_exporter": "python",
   "pygments_lexer": "ipython3",
   "version": "3.11.6"
  }
 },
 "nbformat": 4,
 "nbformat_minor": 2
}
