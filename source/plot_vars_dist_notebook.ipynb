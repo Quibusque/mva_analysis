{
 "cells": [
  {
   "cell_type": "code",
   "execution_count": 1,
   "metadata": {},
   "outputs": [],
   "source": [
    "import uproot\n",
    "import awkward as ak\n",
    "import numpy as np\n",
    "import seaborn as sns\n",
    "import matplotlib.pyplot as plt\n",
    "import os\n",
    "\n",
    "from cfg.hnl_mva_tools import read_json_file\n",
    "from data_tools.load_data import read_files_and_open_trees, filter_trees\n",
    "from plot_tools.plot_vars_dist_tools import plot_var_dist, load_sig_data, load_bkg_data, plot_2d_var_dist"
   ]
  },
  {
   "cell_type": "code",
   "execution_count": 2,
   "metadata": {},
   "outputs": [],
   "source": [
    "ntuples_json = \"cfg/ntuples.json\"\n",
    "vars_json = \"cfg/vars_new.json\"\n",
    "plots_dir = \"../vars_dist_plots\"\n",
    "(\n",
    "    sig_trees,\n",
    "    bkg_trees,\n",
    "    good_vars,\n",
    "    sig_labels,\n",
    "    bkg_labels\n",
    ") = read_files_and_open_trees(ntuples_json, vars_json)\n",
    "\n",
    "full_vars = read_json_file(vars_json)[\"vars\"]\n",
    "training_vars = read_json_file(vars_json)[\"training_vars\"]\n",
    "scale_factor_vars = read_json_file(vars_json)[\"scale_factors\"]\n",
    "weight_name = read_json_file(ntuples_json)[\"weight_name\"]\n",
    "\n",
    "# FILTER TREES\n",
    "mass_list = [\"mN1p0\", \"mN1p5\"]\n",
    "ctau_list = [\"ctau10\"]\n",
    "my_sig_trees, my_sig_labels = filter_trees(\n",
    "    sig_trees, sig_labels, mass_list=mass_list, ctau_list=ctau_list\n",
    ")\n",
    "\n"
   ]
  },
  {
   "cell_type": "code",
   "execution_count": 3,
   "metadata": {},
   "outputs": [
    {
     "name": "stdout",
     "output_type": "stream",
     "text": [
      "Background Variables Loaded!\n"
     ]
    }
   ],
   "source": [
    "#load_sig_data and load_bkg_data\n",
    "\n",
    "bkg, bkg_weight = load_bkg_data(bkg_trees, training_vars,weight_name,scale_factor_vars)"
   ]
  },
  {
   "cell_type": "code",
   "execution_count": 4,
   "metadata": {},
   "outputs": [
    {
     "name": "stdout",
     "output_type": "stream",
     "text": [
      "Loading Signal Variables...\n",
      "Signal Variables Loaded!\n",
      "Progress: [                    ] 1/48\n",
      "Progress: [                    ] 2/48\n",
      "Progress: [#                   ] 3/48\n",
      "Progress: [#                   ] 4/48\n",
      "Progress: [##                  ] 5/48\n",
      "Progress: [##                  ] 6/48\n",
      "Progress: [##                  ] 7/48\n",
      "Progress: [###                 ] 8/48\n",
      "Progress: [###                 ] 9/48\n",
      "Progress: [####                ] 10/48\n",
      "Progress: [####                ] 11/48\n",
      "Progress: [#####               ] 12/48\n",
      "Progress: [#####               ] 13/48\n",
      "Progress: [#####               ] 14/48\n",
      "Progress: [######              ] 15/48\n",
      "Progress: [######              ] 16/48\n",
      "Progress: [#######             ] 17/48\n",
      "Progress: [#######             ] 18/48\n",
      "Progress: [#######             ] 19/48\n",
      "Progress: [########            ] 20/48\n",
      "Progress: [########            ] 21/48\n",
      "Progress: [#########           ] 22/48\n",
      "Progress: [#########           ] 23/48\n",
      "Progress: [##########          ] 24/48\n",
      "Loading Signal Variables...\n",
      "Signal Variables Loaded!\n",
      "Progress: [##########          ] 25/48\n",
      "Progress: [##########          ] 26/48\n",
      "Progress: [###########         ] 27/48\n",
      "Progress: [###########         ] 28/48\n",
      "Progress: [############        ] 29/48\n",
      "Progress: [############        ] 30/48\n",
      "Progress: [############        ] 31/48\n",
      "Progress: [#############       ] 32/48\n",
      "Progress: [#############       ] 33/48\n",
      "Progress: [##############      ] 34/48\n",
      "Progress: [##############      ] 35/48\n",
      "Progress: [###############     ] 36/48\n",
      "Progress: [###############     ] 37/48\n",
      "Progress: [###############     ] 38/48\n",
      "Progress: [################    ] 39/48\n",
      "Progress: [################    ] 40/48\n",
      "Progress: [#################   ] 41/48\n",
      "Progress: [#################   ] 42/48\n",
      "Progress: [#################   ] 43/48\n",
      "Progress: [##################  ] 44/48\n",
      "Progress: [##################  ] 45/48\n",
      "Progress: [################### ] 46/48\n",
      "Progress: [################### ] 47/48\n",
      "Progress: [####################] 48/48\n"
     ]
    }
   ],
   "source": [
    "total = len(my_sig_trees) * len(training_vars)\n",
    "progress = 0\n",
    "\n",
    "for my_sig_tree, my_sig_label in zip(my_sig_trees, my_sig_labels):\n",
    "    out_dir = f\"{plots_dir}/{my_sig_label}\"\n",
    "    if not os.path.exists(out_dir):\n",
    "        os.makedirs(out_dir)\n",
    "    sig, sig_weight = load_sig_data(my_sig_tree, training_vars, scale_factor_vars)\n",
    "    for var1 in training_vars:\n",
    "        # Update progress\n",
    "        progress += 1\n",
    "        print(f\"Progress: [{'#' * (progress * 20 // total)}{' ' * (20 - progress * 20 // total)}] {progress}/{total}\")\n",
    "\n",
    "        plot_var_dist(sig,bkg,sig_weight,bkg_weight,my_sig_label,bkg_labels,var1,out_dir)\n",
    "        # for var2 in training_vars:\n",
    "        #     if var1 == var2:\n",
    "        #         continue\n",
    "        #     plot_2d_var_dist(sig,bkg,sig_weight,bkg_weight,var1,var2,out_dir)"
   ]
  },
  {
   "cell_type": "code",
   "execution_count": null,
   "metadata": {},
   "outputs": [],
   "source": []
  }
 ],
 "metadata": {
  "kernelspec": {
   "display_name": "ml",
   "language": "python",
   "name": "python3"
  },
  "language_info": {
   "codemirror_mode": {
    "name": "ipython",
    "version": 3
   },
   "file_extension": ".py",
   "mimetype": "text/x-python",
   "name": "python",
   "nbconvert_exporter": "python",
   "pygments_lexer": "ipython3",
   "version": "3.11.6"
  }
 },
 "nbformat": 4,
 "nbformat_minor": 2
}
