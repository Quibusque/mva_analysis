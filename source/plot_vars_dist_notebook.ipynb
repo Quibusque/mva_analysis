{
 "cells": [
  {
   "cell_type": "code",
   "execution_count": 1,
   "metadata": {},
   "outputs": [],
   "source": [
    "import uproot\n",
    "import awkward as ak\n",
    "import numpy as np\n",
    "import seaborn as sns\n",
    "import matplotlib.pyplot as plt\n",
    "import os\n",
    "import pandas as pd\n",
    "import mplhep as hep\n",
    "plt.style.use(hep.style.ROOT)\n",
    "\n",
    "from cfg.hnl_mva_tools import read_json_file\n",
    "from data_tools.load_data import read_files_and_open_trees, filter_trees\n",
    "from plot_tools.plot_vars_dist_tools import load_sig_data, load_bkg_data, plot_var_dist_one_sig, plot_var_dist_more_sig"
   ]
  },
  {
   "cell_type": "code",
   "execution_count": 2,
   "metadata": {},
   "outputs": [],
   "source": [
    "ntuples_json = \"cfg/ntuples.json\"\n",
    "vars_json = \"cfg/vars_new.json\"\n",
    "plots_dir = \"../vars_dist_plots\"\n",
    "(\n",
    "    sig_trees,\n",
    "    bkg_trees,\n",
    "    good_vars,\n",
    "    sig_labels,\n",
    "    bkg_labels\n",
    ") = read_files_and_open_trees(ntuples_json, vars_json)\n",
    "\n",
    "full_vars = read_json_file(vars_json)[\"vars\"]\n",
    "training_vars = read_json_file(vars_json)[\"training_vars\"]\n",
    "scale_factor_vars = read_json_file(vars_json)[\"scale_factors\"]\n",
    "weight_name = read_json_file(ntuples_json)[\"weight_name\"]\n",
    "\n"
   ]
  },
  {
   "cell_type": "markdown",
   "metadata": {},
   "source": [
    "#### VARS NAME DICT"
   ]
  },
  {
   "cell_type": "code",
   "execution_count": 3,
   "metadata": {},
   "outputs": [],
   "source": [
    "vars_name_dict = {\n",
    "    \"C_Ds_pt\":\"$p_T(D_s)$\",\n",
    "    \"C_Ds_vertex_cos2D\":\"$D_s$ vertex cos(2D)\",\n",
    "    \"C_Ds_vertex_prob\":\"$D_s$ vertex prob\",\n",
    "    \"C_Hnl_vertex_2DSig_BS\":\"$L_{xy} / σ$\",\n",
    "    \"C_Hnl_vertex_cos2D\":\"$N$ vertex cos(2D)\",\n",
    "    \"C_Hnl_vertex_cos3D\":\"$N$ vertex cos(3D)\",\n",
    "    \"C_Hnl_vertex_prob\":\"$N$ vertex prob\",\n",
    "    \"C_mu_Ds_BS_ips_xy\":\"$\\mu_{D}$ IPS xy\",\n",
    "    \"C_mu_Ds_pt\":\"$p_T(\\mu_{D})$\",\n",
    "    \"C_mu_Ds_nValidTrackerHits\":\"$\\mu_{D}$ tracker hits\",\n",
    "    \"C_mu_Ds_nValidPixelHits\":\"$\\mu_{D}$ pixel hits\",\n",
    "    \"C_mu_Ds_tkIso_R03\":\"$\\mu_{D}$ isolation\",\n",
    "    \"C_mu_Hnl_BS_ips_xy\":\"$\\mu_{H}$ IPS xy\",\n",
    "    \"C_mu_Hnl_pt\":\"$p_T(\\mu_{H})$\",\n",
    "    \"C_mu_Hnl_nValidTrackerHits\":\"$\\mu_{N}$ tracker hits\",\n",
    "    \"C_mu_Hnl_nValidPixelHits\":\"$\\mu_{N}$ pixel hits\",\n",
    "    \"C_mu_Hnl_tkIso_R03\":\"$\\mu_{N}$ isolation\",\n",
    "    \"C_pi_BS_ip_xy\":\"$\\pi$ IPS xy\",\n",
    "    \"C_pi_BS_ips_xy\":\"$\\pi$ IPS xy\",\n",
    "    \"C_pi_pt\":\"$p_T(\\pi)$\",\n",
    "    \"C_pi_nValidTrackerHits\":\"$\\pi$ tracker hits\",\n",
    "    \"C_pi_nValidPixelHits\":\"$\\pi$ pixel hits\",\n",
    "    \"C_mu1mu2_dr\":\"$\\Delta R (\\mu_{H}, \\mu_{D})$\",\n",
    "    \"C_mu2pi_dr\":\"$\\Delta R (\\mu_{D}, \\pi)$\",\n",
    "    \"C_pass_gen_matching\":\"Pass gen matching\",\n",
    "    \"C_mu_Hnl_charge\":\"$\\mu_{N}$ charge\",\n",
    "    \"C_mu_Ds_charge\":\"$\\mu_{D}$ charge\"\n",
    "}\n",
    "\n",
    "\n",
    "\n"
   ]
  },
  {
   "cell_type": "code",
   "execution_count": 4,
   "metadata": {},
   "outputs": [],
   "source": [
    "#load_sig_data and load_bkg_data\n",
    "\n",
    "backgrounds, backgrounds_weight = load_bkg_data(bkg_trees, full_vars,weight_name,scale_factor_vars)\n",
    "bkg_keys = list(backgrounds[0].keys())\n",
    "bkg_dfs = [pd.DataFrame(backgrounds[i], columns=bkg_keys) for i in range(len(backgrounds))]\n",
    "\n",
    "# Add weights to each bkg DataFrame\n",
    "for i in range(len(bkg_dfs)):\n",
    "    bkg_dfs[i]['weight'] = backgrounds_weight[i]"
   ]
  },
  {
   "cell_type": "markdown",
   "metadata": {},
   "source": [
    "#### CORRELATION MATRIX"
   ]
  },
  {
   "cell_type": "code",
   "execution_count": 5,
   "metadata": {},
   "outputs": [],
   "source": [
    "# # FILTER TREES\n",
    "# mass_list = [\"mN1p0\",\"mN1p5\",\"mN1p8\"]\n",
    "# ctau_list = [\"ctau10\"]\n",
    "# my_sig_trees, my_sig_labels = filter_trees(\n",
    "#     sig_trees, sig_labels, mass_list=mass_list, ctau_list=ctau_list\n",
    "# )"
   ]
  },
  {
   "cell_type": "code",
   "execution_count": 6,
   "metadata": {},
   "outputs": [],
   "source": [
    "# # remove C_category from the list of variables\n",
    "# # corr_vars = bkg_keys - [\"C_category\"]\n",
    "# corr_vars = [var for var in bkg_keys if var != \"C_category\"]\n",
    "# true_vars_names = [vars_name_dict[var] for var in corr_vars]\n",
    "# for my_sig_tree, my_sig_label in zip(my_sig_trees, my_sig_labels):\n",
    "#     sig, sig_weight = load_sig_data(my_sig_tree, full_vars, scale_factor_vars)\n",
    "#     sig_keys = list(sig.keys())\n",
    "#     sig_df = pd.DataFrame(sig, columns=sig_keys)\n",
    "#     sig_df = sig_df.drop(columns=[\"C_category\"])\n",
    "\n",
    "#     sig_corr_matrix = sig_df.corr() * 100\n",
    "\n",
    "#     fig, ax = plt.subplots(figsize=(15, 10))\n",
    "\n",
    "#     plt.subplots_adjust(\n",
    "#         left=0.2, right=0.8, bottom=0.2, top=0.8\n",
    "#     )  # Adjust the subplot parameters\n",
    "#     ax = sns.heatmap(\n",
    "#         sig_corr_matrix,\n",
    "#         annot=True,\n",
    "#         fmt=\".0f\",\n",
    "#         cmap=\"coolwarm\",\n",
    "#         #use vars_name_dict to replace the names\n",
    "#         xticklabels=true_vars_names,\n",
    "#         yticklabels=true_vars_names,\n",
    "#         cbar=False,\n",
    "#         annot_kws={\"size\": 14},\n",
    "#     )\n",
    "#     plt.title(f\"Correlation matrix for {my_sig_label}\")\n",
    "#     ax.set_xticklabels(\n",
    "#         ax.get_xticklabels(),\n",
    "#         rotation=45,\n",
    "#         horizontalalignment=\"right\",\n",
    "#         fontsize=\"x-small\",\n",
    "#     )  # Adjust x labels\n",
    "#     ax.set_yticklabels(ax.get_yticklabels(), fontsize=\"x-small\")  # Adjust y labels\n",
    "#     plt.savefig(f\"{plots_dir}/correlation_matrix_{my_sig_label}.png\")\n",
    "#     plt.close()\n",
    "#     break\n",
    "\n",
    "# # DO BACKGROUND\n",
    "# # concatenate all bkg dataframes\n",
    "# my_bkg_df = pd.concat(bkg_dfs)\n",
    "# # make a copy without the weight column\n",
    "# my_bkg_df_copy = my_bkg_df.copy()\n",
    "# my_bkg_df_copy = my_bkg_df_copy.drop(columns=[\"weight\", \"C_category\"])\n",
    "# bkg_corr_matrix = my_bkg_df.corr() * 100\n",
    "# plt.subplots_adjust(\n",
    "#     left=0.2, right=0.8, bottom=0.2, top=0.8\n",
    "# )  # Adjust the subplot parameters\n",
    "# sns.heatmap(\n",
    "#     bkg_corr_matrix,\n",
    "#     annot=True,\n",
    "#     fmt=\".0f\",\n",
    "#     cmap=\"coolwarm\",\n",
    "#     xticklabels=true_vars_names,\n",
    "#     yticklabels=true_vars_names,\n",
    "#     cbar=False,\n",
    "# )\n",
    "# plt.title(f\"Correlation matrix for background\")\n",
    "# plt.savefig(f\"{plots_dir}/correlation_matrix_bkg.png\")\n",
    "# plt.close()\n",
    "\n",
    "\n",
    "# # corr_matrix = df.corr() * 100\n",
    "# #\n",
    "# #     plt.subplots_adjust(\n",
    "# #         left=0.2, right=0.8, bottom=0.2, top=0.8\n",
    "# #     )  # Adjust the subplot parameters\n",
    "# #     sns.heatmap(\n",
    "# #         corr_matrix,\n",
    "# #         annot=True,\n",
    "# #         fmt=\".0f\",\n",
    "# #         cmap=\"coolwarm\",\n",
    "# #         xticklabels=var_names,\n",
    "# #         yticklabels=var_names,\n",
    "# #         cbar=False,\n",
    "# #     )"
   ]
  },
  {
   "cell_type": "markdown",
   "metadata": {},
   "source": [
    "#### USE THIS FOR SPECIFIC PLOTS"
   ]
  },
  {
   "cell_type": "code",
   "execution_count": 7,
   "metadata": {},
   "outputs": [],
   "source": [
    "# FILTER TREES\n",
    "mass_list = [\"mN1p0\",\"mN1p5\",\"mN1p8\"]\n",
    "ctau_list = [\"ctau10\"]\n",
    "my_sig_trees, my_sig_labels = filter_trees(\n",
    "    sig_trees, sig_labels, mass_list=mass_list, ctau_list=ctau_list\n",
    ")"
   ]
  },
  {
   "cell_type": "code",
   "execution_count": 8,
   "metadata": {},
   "outputs": [
    {
     "name": "stdout",
     "output_type": "stream",
     "text": [
      "Loading Signal Variables...\n",
      "Signal Variables Loaded!\n",
      "Loading Signal Variables...\n",
      "Signal Variables Loaded!\n",
      "Loading Signal Variables...\n",
      "Signal Variables Loaded!\n"
     ]
    }
   ],
   "source": [
    "#┌─────────────────────────────┐\n",
    "#│ USE THIS FOR SPECIFIC PLOTS │\n",
    "#└─────────────────────────────┘\n",
    "category_list = [1,2,3,4,5,6]\n",
    "category_var = \"C_category\"\n",
    "\n",
    "my_vars = [\"C_Hnl_vertex_2DSig_BS\"]\n",
    "my_sig_dfs = []\n",
    "\n",
    "#make plots for all categories\n",
    "out_dir = f\"{plots_dir}/my_plots\"\n",
    "if not os.path.exists(out_dir):\n",
    "    os.makedirs(out_dir)\n",
    "\n",
    "for my_sig_tree, my_sig_label in zip(my_sig_trees, my_sig_labels):\n",
    "    sig, sig_weight = load_sig_data(my_sig_tree, full_vars, scale_factor_vars)\n",
    "    sig_keys = list(sig.keys())\n",
    "    sig_df = pd.DataFrame(sig, columns=sig_keys)\n",
    "    # Add weights to sig DataFrame\n",
    "    sig_df['weight'] = sig_weight\n",
    "    my_sig_dfs.append(sig_df)\n",
    "    for category in category_list:\n",
    "        break\n",
    "        out_dir += f\"/cat_{category}\"\n",
    "        if not os.path.exists(out_dir):\n",
    "            os.makedirs(out_dir)\n",
    "        \n",
    "        #mask away data points that are not in the category\n",
    "        sig_df_masked = sig_df[sig_df[category_var] == category]\n",
    "        bkg_dfs_masked = [bkg_dfs[i][bkg_dfs[i][category_var] == category] for i in range(len(bkg_dfs))]\n",
    "        #plot the variables\n",
    "        for var in full_vars:\n",
    "            signal = sig_df_masked[var]\n",
    "            signal_weight = sig_df_masked['weight']\n",
    "            backgrounds = [bkg_dfs_masked[i][var] for i in range(len(bkg_dfs_masked))]\n",
    "            backgrounds_weight = [bkg_dfs_masked[i]['weight'] for i in range(len(bkg_dfs_masked))]\n",
    "            plot_var_dist(signal,backgrounds, signal_weight, backgrounds_weight, my_sig_label,bkg_labels,var,out_dir)\n",
    "\n",
    "\n",
    "#plot the variables\n",
    "for var in my_vars:\n",
    "    signals = [sig_df[var] for sig_df in my_sig_dfs]\n",
    "    signals_weight = [sig_df['weight'] for sig_df in my_sig_dfs]\n",
    "    backgrounds = [bkg_dfs[i][var] for i in range(len(bkg_dfs))]\n",
    "    backgrounds_weight = [bkg_dfs[i]['weight'] for i in range(len(bkg_dfs))]\n",
    "    plot_var_dist_more_sig(signals,backgrounds, signals_weight, backgrounds_weight, my_sig_labels,bkg_labels,var,out_dir)\n",
    "\n",
    "    \n",
    "\n"
   ]
  },
  {
   "cell_type": "markdown",
   "metadata": {},
   "source": [
    "#### USE THIS FOR ALL PLOTS"
   ]
  },
  {
   "cell_type": "code",
   "execution_count": 9,
   "metadata": {},
   "outputs": [],
   "source": [
    "# FILTER TREES\n",
    "mass_list = [\"mN1p0\", \"mN1p5\"]\n",
    "ctau_list = [\"ctau10\"]\n",
    "my_sig_trees, my_sig_labels = filter_trees(\n",
    "    sig_trees, sig_labels, mass_list=mass_list, ctau_list=ctau_list\n",
    ")"
   ]
  },
  {
   "cell_type": "code",
   "execution_count": 10,
   "metadata": {},
   "outputs": [
    {
     "name": "stdout",
     "output_type": "stream",
     "text": [
      "Loading Signal Variables...\n",
      "Signal Variables Loaded!\n"
     ]
    },
    {
     "name": "stdout",
     "output_type": "stream",
     "text": [
      "Loading Signal Variables...\n",
      "Signal Variables Loaded!\n"
     ]
    }
   ],
   "source": [
    "category_list = [1,2,3,4,5,6]\n",
    "category_var = \"C_category\"\n",
    "for my_sig_tree, my_sig_label in zip(my_sig_trees, my_sig_labels):\n",
    "    sig, sig_weight = load_sig_data(my_sig_tree, full_vars, scale_factor_vars)\n",
    "    sig_keys = list(sig.keys())\n",
    "    sig_df = pd.DataFrame(sig, columns=sig_keys)\n",
    "    # Add weights to sig DataFrame\n",
    "    sig_df['weight'] = sig_weight\n",
    "    for category in category_list:\n",
    "        out_dir = f\"{plots_dir}/{my_sig_label}/cat_{category}\"\n",
    "        if not os.path.exists(out_dir):\n",
    "            os.makedirs(out_dir)\n",
    "        \n",
    "        #mask away data points that are not in the category\n",
    "        sig_df_masked = sig_df[sig_df[category_var] == category]\n",
    "        bkg_dfs_masked = [bkg_dfs[i][bkg_dfs[i][category_var] == category] for i in range(len(bkg_dfs))]\n",
    "        #plot the variables\n",
    "        for var in full_vars:\n",
    "            signal = sig_df_masked[var]\n",
    "            signal_weight = sig_df_masked['weight']\n",
    "            backgrounds = [bkg_dfs_masked[i][var] for i in range(len(bkg_dfs_masked))]\n",
    "            backgrounds_weight = [bkg_dfs_masked[i]['weight'] for i in range(len(bkg_dfs_masked))]\n",
    "            plot_var_dist_one_sig(signal,backgrounds, signal_weight, backgrounds_weight, my_sig_label,bkg_labels,var,out_dir, category=category)\n",
    "    #make plots for all categories\n",
    "    out_dir = f\"{plots_dir}/{my_sig_label}/all_categories\"\n",
    "    if not os.path.exists(out_dir):\n",
    "        os.makedirs(out_dir)\n",
    "\n",
    "    #plot the variables\n",
    "    for var in full_vars:\n",
    "        signal = sig_df[var]\n",
    "        signal_weight = sig_df['weight']\n",
    "        backgrounds = [bkg_dfs[i][var] for i in range(len(bkg_dfs))]\n",
    "        backgrounds_weight = [bkg_dfs[i]['weight'] for i in range(len(bkg_dfs))]\n",
    "        plot_var_dist_one_sig(signal,backgrounds, signal_weight, backgrounds_weight, my_sig_label,bkg_labels,var,out_dir)"
   ]
  },
  {
   "cell_type": "code",
   "execution_count": null,
   "metadata": {},
   "outputs": [],
   "source": []
  }
 ],
 "metadata": {
  "kernelspec": {
   "display_name": "ml",
   "language": "python",
   "name": "python3"
  },
  "language_info": {
   "codemirror_mode": {
    "name": "ipython",
    "version": 3
   },
   "file_extension": ".py",
   "mimetype": "text/x-python",
   "name": "python",
   "nbconvert_exporter": "python",
   "pygments_lexer": "ipython3",
   "version": "3.11.6"
  }
 },
 "nbformat": 4,
 "nbformat_minor": 2
}
